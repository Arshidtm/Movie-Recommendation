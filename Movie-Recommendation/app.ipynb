{
 "cells": [
  {
   "cell_type": "code",
   "execution_count": 8,
   "id": "42f54669-efd7-4981-975f-e350c09993e7",
   "metadata": {},
   "outputs": [],
   "source": [
    "import streamlit as st\n",
    "import pickle as pkl\n",
    "import pandas as pd\n",
    "import requests"
   ]
  },
  {
   "cell_type": "code",
   "execution_count": null,
   "id": "50a9977b-1e50-4848-816b-a021bd1590fa",
   "metadata": {},
   "outputs": [],
   "source": []
  },
  {
   "cell_type": "code",
   "execution_count": 12,
   "id": "423d3483-a532-42be-bc1d-700ba5a56685",
   "metadata": {},
   "outputs": [
    {
     "name": "stderr",
     "output_type": "stream",
     "text": [
      "2024-12-03 11:58:16.838 WARNING streamlit.runtime.scriptrunner_utils.script_run_context: Thread 'MainThread': missing ScriptRunContext! This warning can be ignored when running in bare mode.\n",
      "2024-12-03 11:58:17.383 \n",
      "  \u001b[33m\u001b[1mWarning:\u001b[0m to view this Streamlit app on a browser, run it with the following\n",
      "  command:\n",
      "\n",
      "    streamlit run C:\\Users\\arshi\\Downloads\\Desktop\\my project\\NEW-VENV\\Lib\\site-packages\\ipykernel_launcher.py [ARGUMENTS]\n",
      "2024-12-03 11:58:17.383 Thread 'MainThread': missing ScriptRunContext! This warning can be ignored when running in bare mode.\n",
      "2024-12-03 11:58:17.383 Thread 'MainThread': missing ScriptRunContext! This warning can be ignored when running in bare mode.\n",
      "2024-12-03 11:58:17.383 Thread 'MainThread': missing ScriptRunContext! This warning can be ignored when running in bare mode.\n",
      "2024-12-03 11:58:17.406 Thread 'MainThread': missing ScriptRunContext! This warning can be ignored when running in bare mode.\n",
      "2024-12-03 11:58:17.406 Thread 'MainThread': missing ScriptRunContext! This warning can be ignored when running in bare mode.\n",
      "2024-12-03 11:58:17.406 Session state does not function when running a script without `streamlit run`\n",
      "2024-12-03 11:58:17.417 Thread 'MainThread': missing ScriptRunContext! This warning can be ignored when running in bare mode.\n",
      "2024-12-03 11:58:17.428 Thread 'MainThread': missing ScriptRunContext! This warning can be ignored when running in bare mode.\n"
     ]
    }
   ],
   "source": [
    "def fetch_poster(movie_id):\n",
    "    requests.get()\n",
    "\n",
    "movie_dict=pkl.load(open('movies_dict.pkl','rb'))\n",
    "movies=pd.DataFrame(movie_dict)\n",
    "similarity=pkl.load(open('similsrity.pkl','rb'))\n",
    "st.title('Movie Recommender System')\n",
    "\n",
    "selected_movie_name=st.selectbox(\n",
    "    \"How would you like to be continue\",\n",
    "    movies['title'].values\n",
    ")"
   ]
  },
  {
   "cell_type": "code",
   "execution_count": 14,
   "id": "61488a7a-6805-4736-a63c-cf8a6efe4146",
   "metadata": {},
   "outputs": [],
   "source": [
    "def recommend(movie):\n",
    "    movi_index=movies[movies['title']==movie].index[0]\n",
    "    distance=similarity[movi_index]\n",
    "    movies_list=sorted(list(enumerate(distance)),reverse=True,key=lambda x:x[1])[1:6]\n",
    "    recommend_movies=[]\n",
    "    for i in movies_list:\n",
    "        movie_id=i[0]\n",
    "        recommend_movies.append(movies.iloc[i[0]].title)\n",
    "    return recommend_movies"
   ]
  },
  {
   "cell_type": "code",
   "execution_count": 16,
   "id": "05bdb8fd-4070-4aaf-adb8-96bf7dea30d6",
   "metadata": {},
   "outputs": [
    {
     "name": "stderr",
     "output_type": "stream",
     "text": [
      "2024-12-03 11:58:34.157 Thread 'MainThread': missing ScriptRunContext! This warning can be ignored when running in bare mode.\n",
      "2024-12-03 11:58:34.160 Thread 'MainThread': missing ScriptRunContext! This warning can be ignored when running in bare mode.\n",
      "2024-12-03 11:58:34.161 Thread 'MainThread': missing ScriptRunContext! This warning can be ignored when running in bare mode.\n",
      "2024-12-03 11:58:34.163 Thread 'MainThread': missing ScriptRunContext! This warning can be ignored when running in bare mode.\n",
      "2024-12-03 11:58:34.164 Thread 'MainThread': missing ScriptRunContext! This warning can be ignored when running in bare mode.\n"
     ]
    }
   ],
   "source": [
    "if st.button('Recommend'):\n",
    "    recommendations=recommend(selected_movie_name)\n",
    "    for i in recommendations:\n",
    "        st.write(i)"
   ]
  },
  {
   "cell_type": "code",
   "execution_count": null,
   "id": "9339cfb6-23a3-465f-b550-c259324d386c",
   "metadata": {},
   "outputs": [],
   "source": []
  }
 ],
 "metadata": {
  "kernelspec": {
   "display_name": "MyNewVenv",
   "language": "python",
   "name": "mynewvenv"
  },
  "language_info": {
   "codemirror_mode": {
    "name": "ipython",
    "version": 3
   },
   "file_extension": ".py",
   "mimetype": "text/x-python",
   "name": "python",
   "nbconvert_exporter": "python",
   "pygments_lexer": "ipython3",
   "version": "3.12.4"
  }
 },
 "nbformat": 4,
 "nbformat_minor": 5
}
